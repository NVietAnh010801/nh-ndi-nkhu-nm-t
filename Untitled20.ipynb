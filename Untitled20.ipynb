{
  "nbformat": 4,
  "nbformat_minor": 0,
  "metadata": {
    "colab": {
      "name": "Untitled20.ipynb",
      "provenance": [],
      "authorship_tag": "ABX9TyP8ErOLbf8EKvXYoTmr6zu2",
      "include_colab_link": true
    },
    "kernelspec": {
      "name": "python3",
      "display_name": "Python 3"
    },
    "language_info": {
      "name": "python"
    }
  },
  "cells": [
    {
      "cell_type": "markdown",
      "metadata": {
        "id": "view-in-github",
        "colab_type": "text"
      },
      "source": [
        "<a href=\"https://colab.research.google.com/github/NVietAnh010801/nh-ndi-nkhu-nm-t/blob/main/Untitled20.ipynb\" target=\"_parent\"><img src=\"https://colab.research.google.com/assets/colab-badge.svg\" alt=\"Open In Colab\"/></a>"
      ]
    },
    {
      "cell_type": "code",
      "execution_count": 1,
      "metadata": {
        "colab": {
          "base_uri": "https://localhost:8080/"
        },
        "id": "cURWw3B_VWsl",
        "outputId": "24bf2c8d-6668-4c88-abb0-dbc6eef0c477"
      },
      "outputs": [
        {
          "output_type": "stream",
          "name": "stdout",
          "text": [
            "Mounted at /content/drive\n"
          ]
        }
      ],
      "source": [
        "from google.colab import drive\n",
        "drive.mount('/content/drive')"
      ]
    },
    {
      "cell_type": "code",
      "source": [
        "from keras import datasets, Sequential\n",
        "from keras.layers import Conv2D, Dense, MaxPooling2D, Flatten\n",
        "import matplotlib.pyplot as plt\n",
        "from sklearn.metrics import confusion_matrix\n",
        "import numpy as np\n",
        "from keras.utils import np_utils\n",
        "from keras.datasets import cifar10\n",
        "import matplotlib.pyplot as plt\n",
        "from tensorflow.keras.optimizers import Adam\n",
        "from keras.preprocessing import  image\n",
        "from keras.preprocessing.image import load_img, img_to_array,array_to_img,ImageDataGenerator\n",
        "import numpy as np\n",
        "import os\n",
        "import cv2 as cv"
      ],
      "metadata": {
        "id": "x_y25-YEZaaV"
      },
      "execution_count": 10,
      "outputs": []
    },
    {
      "cell_type": "code",
      "source": [
        "hoa = ['hoacuc','hoathuocduoc','anhmattroi','hoavantho']\n",
        "dir_train = '/content/drive/MyDrive/Colab Notebooks/hoa/'\n",
        "distpath = []\n",
        "y_train = []\n",
        "x_train = []\n",
        "x_test = []\n",
        "y_test = []\n",
        "# Tạo dữ liệu\n",
        "def create_data(dir, x_train, y_train):\n",
        "  for i in hoa:\n",
        "    path = os.path.join(dir,i)\n",
        "    index_label = hoa.index(i)\n",
        "    for j in os.listdir(path):\n",
        "      img_path = os.path.join(path, j)\n",
        "      img = image.load_img(img_path, target_size=(150,150)) # độ phân giải tùy ae chọn nhé!\n",
        "      img = img_to_array(img)\n",
        "      img = img.reshape(150,150,3) #hàm reshape phải có cùng độ phân giải với target_size của nhé\n",
        "      img = img.astype('float32')\n",
        "      img = img/255\n",
        "      x_train.append(img)\n",
        "      y_train.append(index_label)\n",
        "create_data(dir_train, x_train, y_train) #tạo dữ liệu \n",
        "# xử lí dữ liệu\n",
        "x_train = np.array(x_train)\n",
        "y_train = np.array(y_train)\n",
        "y_train = np_utils.to_categorical(y_train, 4)\n",
        "print(x_train.shape) # nhớ chú ý kích thước hình ảnh để tí cho vào input của model\n",
        "print(y_train.shape)\n",
        "model = Sequential()\n",
        "model.add(Conv2D(filters=32,\n",
        "                 kernel_size=(27,48),\n",
        "                 activation='relu',\n",
        "                 kernel_initializer='he_uniform',\n",
        "                 padding='same',\n",
        "                 input_shape=(150,150,3),\n",
        "                 strides=(9,16)))\n",
        "model.add(MaxPooling2D(2,2))\n",
        "model.add(Conv2D(filters=64,\n",
        "                 kernel_size=(27,48), \n",
        "                 activation='relu',\n",
        "                 kernel_initializer='he_uniform',\n",
        "                 padding='same'))\n",
        "model.add(MaxPooling2D(2,2))\n",
        "model.add(Flatten())\n",
        "model.add(Dense(512, activation='relu',input_shape=(67500,), name='layer1')) \n",
        "model.add(Dense(1028, activation='relu', name='layer2'))\n",
        "model.add(Dense(1028, activation='relu', name='layer3'))\n",
        "model.add(Dense(4, activation='softmax', name='layer4'))\n",
        "model.summary()\n",
        "model.compile(loss='categorical_crossentropy', optimizer=Adam(), metrics=['accuracy'])\n",
        "history = model.fit(x_train,y_train,epochs = 20)"
      ],
      "metadata": {
        "colab": {
          "base_uri": "https://localhost:8080/"
        },
        "id": "0FNx7XncZf9q",
        "outputId": "184ed2dc-308c-4a6d-b017-920512b8b3ac"
      },
      "execution_count": 13,
      "outputs": [
        {
          "output_type": "stream",
          "name": "stdout",
          "text": [
            "(80, 150, 150, 3)\n",
            "(80, 4)\n",
            "Model: \"sequential_1\"\n",
            "_________________________________________________________________\n",
            " Layer (type)                Output Shape              Param #   \n",
            "=================================================================\n",
            " conv2d_3 (Conv2D)           (None, 17, 10, 32)        124448    \n",
            "                                                                 \n",
            " max_pooling2d_3 (MaxPooling  (None, 8, 5, 32)         0         \n",
            " 2D)                                                             \n",
            "                                                                 \n",
            " conv2d_4 (Conv2D)           (None, 8, 5, 64)          2654272   \n",
            "                                                                 \n",
            " max_pooling2d_4 (MaxPooling  (None, 4, 2, 64)         0         \n",
            " 2D)                                                             \n",
            "                                                                 \n",
            " flatten_1 (Flatten)         (None, 512)               0         \n",
            "                                                                 \n",
            " layer1 (Dense)              (None, 512)               262656    \n",
            "                                                                 \n",
            " layer2 (Dense)              (None, 1028)              527364    \n",
            "                                                                 \n",
            " layer3 (Dense)              (None, 1028)              1057812   \n",
            "                                                                 \n",
            " layer4 (Dense)              (None, 4)                 4116      \n",
            "                                                                 \n",
            "=================================================================\n",
            "Total params: 4,630,668\n",
            "Trainable params: 4,630,668\n",
            "Non-trainable params: 0\n",
            "_________________________________________________________________\n",
            "Epoch 1/20\n",
            "3/3 [==============================] - 3s 649ms/step - loss: 1.9169 - accuracy: 0.1875\n",
            "Epoch 2/20\n",
            "3/3 [==============================] - 2s 605ms/step - loss: 1.3875 - accuracy: 0.2625\n",
            "Epoch 3/20\n",
            "3/3 [==============================] - 2s 611ms/step - loss: 1.3864 - accuracy: 0.2500\n",
            "Epoch 4/20\n",
            "3/3 [==============================] - 2s 747ms/step - loss: 1.3786 - accuracy: 0.2750\n",
            "Epoch 5/20\n",
            "3/3 [==============================] - 3s 973ms/step - loss: 1.3694 - accuracy: 0.2375\n",
            "Epoch 6/20\n",
            "3/3 [==============================] - 2s 724ms/step - loss: 1.3447 - accuracy: 0.4750\n",
            "Epoch 7/20\n",
            "3/3 [==============================] - 2s 618ms/step - loss: 1.2911 - accuracy: 0.4125\n",
            "Epoch 8/20\n",
            "3/3 [==============================] - 3s 1s/step - loss: 1.2948 - accuracy: 0.4125\n",
            "Epoch 9/20\n",
            "3/3 [==============================] - 3s 993ms/step - loss: 1.2291 - accuracy: 0.4625\n",
            "Epoch 10/20\n",
            "3/3 [==============================] - 2s 605ms/step - loss: 1.0998 - accuracy: 0.6375\n",
            "Epoch 11/20\n",
            "3/3 [==============================] - 2s 607ms/step - loss: 0.8822 - accuracy: 0.6500\n",
            "Epoch 12/20\n",
            "3/3 [==============================] - 2s 608ms/step - loss: 0.7167 - accuracy: 0.7500\n",
            "Epoch 13/20\n",
            "3/3 [==============================] - 2s 604ms/step - loss: 0.6393 - accuracy: 0.7375\n",
            "Epoch 14/20\n",
            "3/3 [==============================] - 3s 1s/step - loss: 0.5476 - accuracy: 0.8125\n",
            "Epoch 20/20\n",
            "3/3 [==============================] - 2s 627ms/step - loss: 0.4024 - accuracy: 0.8750\n"
          ]
        }
      ]
    },
    {
      "cell_type": "code",
      "source": [
        "model.save('hoa.h5')"
      ],
      "metadata": {
        "id": "qvew8eZravMZ"
      },
      "execution_count": 14,
      "outputs": []
    },
    {
      "cell_type": "code",
      "source": [
        "pic = image.load_img('0.jpg', target_size=(150,150)) # độ phân giải tùy  chọn nhé!\n",
        "plt.imshow(pic)\n",
        "pic = img_to_array(pic)\n",
        "pic = pic.reshape(1,150,150,3) \n",
        "pic = pic.astype('float32')\n",
        "pic = pic/255\n",
        "np.argmax(model.predict(pic), axis=1)\n",
        "print('Giá trị dự đoán:', np.argmax(model.predict(pic)))\n",
        "if np.argmax(model.predict(pic)) == 0:\n",
        "   print(\"Hoa cúc\")\n",
        "if np.argmax(model.predict(pic)) == 1:\n",
        "   print(\"Hoa thược dược\")\n",
        "if np.argmax(model.predict(pic)) == 2:\n",
        "   print(\"Ảnh mặt trời\")\n",
        "if np.argmax(model.predict(pic)) == 3:\n",
        "   print(\"Hoa vạn thọ\")"
      ],
      "metadata": {
        "colab": {
          "base_uri": "https://localhost:8080/",
          "height": 397
        },
        "id": "tHUvAiJia-fG",
        "outputId": "8b0b520c-2c43-444d-9cb1-c85ca6b72427"
      },
      "execution_count": 15,
      "outputs": [
        {
          "output_type": "error",
          "ename": "FileNotFoundError",
          "evalue": "ignored",
          "traceback": [
            "\u001b[0;31m---------------------------------------------------------------------------\u001b[0m",
            "\u001b[0;31mFileNotFoundError\u001b[0m                         Traceback (most recent call last)",
            "\u001b[0;32m<ipython-input-15-ccd51be52efd>\u001b[0m in \u001b[0;36m<module>\u001b[0;34m()\u001b[0m\n\u001b[0;32m----> 1\u001b[0;31m \u001b[0mpic\u001b[0m \u001b[0;34m=\u001b[0m \u001b[0mimage\u001b[0m\u001b[0;34m.\u001b[0m\u001b[0mload_img\u001b[0m\u001b[0;34m(\u001b[0m\u001b[0;34m'0.jpg'\u001b[0m\u001b[0;34m,\u001b[0m \u001b[0mtarget_size\u001b[0m\u001b[0;34m=\u001b[0m\u001b[0;34m(\u001b[0m\u001b[0;36m150\u001b[0m\u001b[0;34m,\u001b[0m\u001b[0;36m150\u001b[0m\u001b[0;34m)\u001b[0m\u001b[0;34m)\u001b[0m \u001b[0;31m# độ phân giải tùy ae chọn nhé!\u001b[0m\u001b[0;34m\u001b[0m\u001b[0;34m\u001b[0m\u001b[0m\n\u001b[0m\u001b[1;32m      2\u001b[0m \u001b[0mplt\u001b[0m\u001b[0;34m.\u001b[0m\u001b[0mimshow\u001b[0m\u001b[0;34m(\u001b[0m\u001b[0mpic\u001b[0m\u001b[0;34m)\u001b[0m\u001b[0;34m\u001b[0m\u001b[0;34m\u001b[0m\u001b[0m\n\u001b[1;32m      3\u001b[0m \u001b[0mpic\u001b[0m \u001b[0;34m=\u001b[0m \u001b[0mimg_to_array\u001b[0m\u001b[0;34m(\u001b[0m\u001b[0mpic\u001b[0m\u001b[0;34m)\u001b[0m\u001b[0;34m\u001b[0m\u001b[0;34m\u001b[0m\u001b[0m\n\u001b[1;32m      4\u001b[0m \u001b[0mpic\u001b[0m \u001b[0;34m=\u001b[0m \u001b[0mpic\u001b[0m\u001b[0;34m.\u001b[0m\u001b[0mreshape\u001b[0m\u001b[0;34m(\u001b[0m\u001b[0;36m1\u001b[0m\u001b[0;34m,\u001b[0m\u001b[0;36m150\u001b[0m\u001b[0;34m,\u001b[0m\u001b[0;36m150\u001b[0m\u001b[0;34m,\u001b[0m\u001b[0;36m3\u001b[0m\u001b[0;34m)\u001b[0m\u001b[0;34m\u001b[0m\u001b[0;34m\u001b[0m\u001b[0m\n\u001b[1;32m      5\u001b[0m \u001b[0mpic\u001b[0m \u001b[0;34m=\u001b[0m \u001b[0mpic\u001b[0m\u001b[0;34m.\u001b[0m\u001b[0mastype\u001b[0m\u001b[0;34m(\u001b[0m\u001b[0;34m'float32'\u001b[0m\u001b[0;34m)\u001b[0m\u001b[0;34m\u001b[0m\u001b[0;34m\u001b[0m\u001b[0m\n",
            "\u001b[0;32m/usr/local/lib/python3.7/dist-packages/keras/preprocessing/image.py\u001b[0m in \u001b[0;36mload_img\u001b[0;34m(path, grayscale, color_mode, target_size, interpolation)\u001b[0m\n\u001b[1;32m    312\u001b[0m   \"\"\"\n\u001b[1;32m    313\u001b[0m   return image.load_img(path, grayscale=grayscale, color_mode=color_mode,\n\u001b[0;32m--> 314\u001b[0;31m                         target_size=target_size, interpolation=interpolation)\n\u001b[0m\u001b[1;32m    315\u001b[0m \u001b[0;34m\u001b[0m\u001b[0m\n\u001b[1;32m    316\u001b[0m \u001b[0;34m\u001b[0m\u001b[0m\n",
            "\u001b[0;32m/usr/local/lib/python3.7/dist-packages/keras_preprocessing/image/utils.py\u001b[0m in \u001b[0;36mload_img\u001b[0;34m(path, grayscale, color_mode, target_size, interpolation)\u001b[0m\n\u001b[1;32m    111\u001b[0m         raise ImportError('Could not import PIL.Image. '\n\u001b[1;32m    112\u001b[0m                           'The use of `load_img` requires PIL.')\n\u001b[0;32m--> 113\u001b[0;31m     \u001b[0;32mwith\u001b[0m \u001b[0mopen\u001b[0m\u001b[0;34m(\u001b[0m\u001b[0mpath\u001b[0m\u001b[0;34m,\u001b[0m \u001b[0;34m'rb'\u001b[0m\u001b[0;34m)\u001b[0m \u001b[0;32mas\u001b[0m \u001b[0mf\u001b[0m\u001b[0;34m:\u001b[0m\u001b[0;34m\u001b[0m\u001b[0;34m\u001b[0m\u001b[0m\n\u001b[0m\u001b[1;32m    114\u001b[0m         \u001b[0mimg\u001b[0m \u001b[0;34m=\u001b[0m \u001b[0mpil_image\u001b[0m\u001b[0;34m.\u001b[0m\u001b[0mopen\u001b[0m\u001b[0;34m(\u001b[0m\u001b[0mio\u001b[0m\u001b[0;34m.\u001b[0m\u001b[0mBytesIO\u001b[0m\u001b[0;34m(\u001b[0m\u001b[0mf\u001b[0m\u001b[0;34m.\u001b[0m\u001b[0mread\u001b[0m\u001b[0;34m(\u001b[0m\u001b[0;34m)\u001b[0m\u001b[0;34m)\u001b[0m\u001b[0;34m)\u001b[0m\u001b[0;34m\u001b[0m\u001b[0;34m\u001b[0m\u001b[0m\n\u001b[1;32m    115\u001b[0m         \u001b[0;32mif\u001b[0m \u001b[0mcolor_mode\u001b[0m \u001b[0;34m==\u001b[0m \u001b[0;34m'grayscale'\u001b[0m\u001b[0;34m:\u001b[0m\u001b[0;34m\u001b[0m\u001b[0;34m\u001b[0m\u001b[0m\n",
            "\u001b[0;31mFileNotFoundError\u001b[0m: [Errno 2] No such file or directory: '0.jpg'"
          ]
        }
      ]
    },
    {
      "cell_type": "code",
      "source": [
        "pic = image.load_img('hoa1.jpg', target_size=(150,150)) # độ phân giải tùy ae chọn nhé!\n",
        "plt.imshow(pic)\n",
        "pic = img_to_array(pic)\n",
        "pic = pic.reshape(1,150,150,3) \n",
        "pic = pic.astype('float32')\n",
        "pic = pic/255\n",
        "np.argmax(model.predict(pic), axis=1)\n",
        "print('Giá trị dự đoán:', np.argmax(model.predict(pic)))\n",
        "if np.argmax(model.predict(pic)) == 0:\n",
        "   print(\"Hoa cúc\")\n",
        "if np.argmax(model.predict(pic)) == 1:\n",
        "   print(\"Hoa thược dược\")\n",
        "if np.argmax(model.predict(pic)) == 2:\n",
        "   print(\"Ảnh mặt trời\")\n",
        "if np.argmax(model.predict(pic)) == 3:\n",
        "   print(\"Hoa vạn thọ\")"
      ],
      "metadata": {
        "id": "Hh_6cGZtbG7o"
      },
      "execution_count": null,
      "outputs": []
    },
    {
      "cell_type": "code",
      "source": [
        "pic = image.load_img('hoacuc.jpg', target_size=(150,150)) # độ phân giải tùy ae chọn nhé!\n",
        "plt.imshow(pic)\n",
        "pic = img_to_array(pic)\n",
        "pic = pic.reshape(1,150,150,3) \n",
        "pic = pic.astype('float32')\n",
        "pic = pic/255\n",
        "np.argmax(model.predict(pic), axis=1)\n",
        "print('Giá trị dự đoán:', np.argmax(model.predict(pic)))\n",
        "if np.argmax(model.predict(pic)) == 0:\n",
        "   print(\"Hoa cúc\")\n",
        "if np.argmax(model.predict(pic)) == 1:\n",
        "   print(\"Hoa thược dược\")\n",
        "if np.argmax(model.predict(pic)) == 2:\n",
        "   print(\"Hoa mặt trời\")\n",
        "if np.argmax(model.predict(pic)) == 3:\n",
        "   print(\"Hoa vạn thọ\")"
      ],
      "metadata": {
        "id": "R6W6sOwhbLqI"
      },
      "execution_count": null,
      "outputs": []
    },
    {
      "cell_type": "code",
      "source": [
        "pic = image.load_img('01.jpg', target_size=(150,150)) # độ phân giải tùy ae chọn nhé!\n",
        "plt.imshow(pic)\n",
        "pic = img_to_array(pic)\n",
        "pic = pic.reshape(1,150,150,3) \n",
        "pic = pic.astype('float32')\n",
        "pic = pic/255\n",
        "np.argmax(model.predict(pic), axis=1)\n",
        "print('Giá trị dự đoán:', np.argmax(model.predict(pic)))\n",
        "if np.argmax(model.predict(pic)) == 0:\n",
        "   print(\"Hoa cúc\")\n",
        "if np.argmax(model.predict(pic)) == 1:\n",
        "   print(\"Hoa thược dược\")\n",
        "if np.argmax(model.predict(pic)) == 2:\n",
        "   print(\"Hoa mặt trời\")\n",
        "if np.argmax(model.predict(pic)) == 3:\n",
        "   print(\"Hoa vạn thọ\")"
      ],
      "metadata": {
        "id": "XdEISeAmbONG"
      },
      "execution_count": null,
      "outputs": []
    },
    {
      "cell_type": "code",
      "source": [
        "score = model.evaluate(x_test,y_test,verbose=0)\n",
        "print('Test loss:', score[0])\n",
        "print('Test accuracy', score[1])"
      ],
      "metadata": {
        "id": "KD7fo2fpbSEl"
      },
      "execution_count": null,
      "outputs": []
    }
  ]
}